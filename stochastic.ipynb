{
 "cells": [
  {
   "cell_type": "code",
   "execution_count": 1,
   "metadata": {},
   "outputs": [],
   "source": [
    "import numpy as np\n",
    "import matplotlib.pyplot as plt"
   ]
  },
  {
   "cell_type": "code",
   "execution_count": 2,
   "metadata": {
    "collapsed": true
   },
   "outputs": [],
   "source": [
    "# Neural Network to train simple data\n",
    "# \n",
    "# Data:\n",
    "# 0 0 1 | 0\n",
    "# 0 1 1 | 1\n",
    "# 1 0 1 | 1\n",
    "# 1 1 1 | 0\n",
    "# \n",
    "# Fully connected network from 3 input nodes to 4 hidden nodes to 1 output node."
   ]
  },
  {
   "cell_type": "code",
   "execution_count": 3,
   "metadata": {
    "collapsed": true
   },
   "outputs": [],
   "source": [
    "# Sigmoid\n",
    "def sigmoid(a):\n",
    "    return 1 / (1 + np.exp(-a))\n",
    "\n",
    "def dsigmoid(a):\n",
    "    return sigmoid(a) * (1 - sigmoid(a))"
   ]
  },
  {
   "cell_type": "code",
   "execution_count": 4,
   "metadata": {},
   "outputs": [
    {
     "name": "stdout",
     "output_type": "stream",
     "text": [
      "[[0 0 1]\n",
      " [0 1 1]\n",
      " [1 0 1]\n",
      " [1 1 1]]\n",
      "[[0]\n",
      " [1]\n",
      " [1]\n",
      " [0]]\n"
     ]
    }
   ],
   "source": [
    "# Initialize data\n",
    "X = np.array([[0, 0, 1], [0, 1, 1], [1, 0, 1], [1, 1, 1]])\n",
    "Y = np.array([[0, 1, 1, 0]]).T\n",
    "\n",
    "print(X)\n",
    "print(Y)"
   ]
  },
  {
   "cell_type": "code",
   "execution_count": 60,
   "metadata": {},
   "outputs": [
    {
     "name": "stdout",
     "output_type": "stream",
     "text": [
      "[[ 1.7356161   0.32111283  0.15859614  1.29528787]\n",
      " [ 1.54372903 -2.30019318 -0.13930838 -1.47676439]\n",
      " [ 1.73336569  0.37764165  0.99922236  1.80150347]]\n",
      "[[-1.03948011]\n",
      " [ 1.03957656]\n",
      " [ 0.26301323]\n",
      " [ 0.43290744]]\n"
     ]
    }
   ],
   "source": [
    "# Initialize random weights\n",
    "w1 = np.random.normal(size=(3, 4))\n",
    "w2 = np.random.normal(size=(4, 1))\n",
    "\n",
    "print(w1)\n",
    "print(w2)"
   ]
  },
  {
   "cell_type": "code",
   "execution_count": 61,
   "metadata": {},
   "outputs": [
    {
     "data": {
      "image/png": "[encoded data removed]",
      "text/plain": [
       "<matplotlib.figure.Figure at 0x7f3f115980f0>"
      ]
     },
     "metadata": {},
     "output_type": "display_data"
    }
   ],
   "source": [
    "# For updating weights on a single x\n",
    "def update():\n",
    "    # Initialize global variables\n",
    "    global w1\n",
    "    global w2\n",
    "    # Select random data point\n",
    "    index = np.random.randint(len(X))\n",
    "    x = X[index].reshape((1, -1))\n",
    "    y = Y[index]\n",
    "    # Forward propagation\n",
    "    z1 = x.dot(w1)\n",
    "    a1 = sigmoid(z1)\n",
    "    z2 = a1.dot(w2)\n",
    "    a2 = sigmoid(z2)\n",
    "    c = (a2 - y) ** 2 / 2\n",
    "    # Backward propagation\n",
    "    dc = 1\n",
    "    da2 = a2 - y\n",
    "    dz2 = da2 * dsigmoid(z2)\n",
    "    dw2 = a1.T.dot(dz2)\n",
    "    da1 = dz2 * w2.T\n",
    "    dz1 = da1 * dsigmoid(z1)\n",
    "    dw1 = x.T.dot(dz1)\n",
    "    w1 -= dw1\n",
    "    w2 -= dw2\n",
    "    return c\n",
    "\n",
    "points = []\n",
    "for i in range(30000):\n",
    "    points.append(float(update()))\n",
    "plt.plot(points)\n",
    "plt.show()"
   ]
  },
  {
   "cell_type": "code",
   "execution_count": 66,
   "metadata": {},
   "outputs": [
    {
     "name": "stdout",
     "output_type": "stream",
     "text": [
      "0.9504542767060707\n"
     ]
    }
   ],
   "source": [
    "new_data = np.array([[0, 0, 0]])\n",
    "z1 = new_data.dot(w1)\n",
    "a1 = sigmoid(z1)\n",
    "z2 = a1.dot(w2)\n",
    "a2 = sigmoid(z2)\n",
    "print(float(a2))"
   ]
  },
  {
   "cell_type": "code",
   "execution_count": null,
   "metadata": {
    "collapsed": true
   },
   "outputs": [],
   "source": []
  }
 ],
 "metadata": {
  "kernelspec": {
   "display_name": "Python 3",
   "language": "python",
   "name": "python3"
  },
  "language_info": {
   "codemirror_mode": {
    "name": "ipython",
    "version": 3
   },
   "file_extension": ".py",
   "mimetype": "text/x-python",
   "name": "python",
   "nbconvert_exporter": "python",
   "pygments_lexer": "ipython3",
   "version": "3.5.2"
  }
 },
 "nbformat": 4,
 "nbformat_minor": 2
}
