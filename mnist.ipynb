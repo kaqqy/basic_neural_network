{
 "cells": [
  {
   "cell_type": "code",
   "execution_count": 186,
   "metadata": {},
   "outputs": [],
   "source": [
    "import numpy as np\n",
    "import matplotlib.pyplot as plt\n",
    "import pickle\n",
    "import gzip\n",
    "import random"
   ]
  },
  {
   "cell_type": "code",
   "execution_count": 187,
   "metadata": {
    "collapsed": true
   },
   "outputs": [],
   "source": [
    "# Neural network to train MNIST data"
   ]
  },
  {
   "cell_type": "code",
   "execution_count": 188,
   "metadata": {
    "collapsed": true
   },
   "outputs": [],
   "source": [
    "# Neural network class\n",
    "\n",
    "class NeuralNetwork:\n",
    "    # layers is a list containing the size of each layer\n",
    "    def __init__(self, layers):\n",
    "        self.layers = layers\n",
    "        self.w = [None] * (len(layers) - 1)\n",
    "        self.b = [None] * (len(layers) - 1)\n",
    "        for i in range(len(layers) - 1):\n",
    "            self.w[i] = np.random.normal(size=(layers[i], layers[i + 1]))\n",
    "            self.b[i] = np.random.normal(size=(1, layers[i + 1]))\n",
    "    # For training one batch of data\n",
    "    def train(self, x, y):\n",
    "        # Forward propagation\n",
    "        z = [None] * len(self.layers)\n",
    "        a = [None] * len(self.layers)\n",
    "        a[0] = x\n",
    "        for i in range(1, len(self.layers)):\n",
    "            z[i] = a[i - 1].dot(self.w[i - 1]) + self.b[i - 1]\n",
    "            a[i] = self.sigmoid(z[i])\n",
    "        cost = ((a[len(self.layers) - 1] - y) ** 2 / 2).sum(axis=1).mean()\n",
    "        # Backward propagation\n",
    "        dz = [None] * len(self.layers)\n",
    "        da = [None] * len(self.layers)\n",
    "        dw = [None] * len(self.w)\n",
    "        db = [None] * len(self.b)\n",
    "        for i in range(len(self.layers) - 1, 0, -1):\n",
    "            if i + 1 == len(self.layers):\n",
    "                da[i] = a[i] - y\n",
    "            else:\n",
    "                da[i] = dz[i + 1].dot(self.w[i].T)\n",
    "            dz[i] = da[i] * self.dsigmoid(z[i])\n",
    "            dw[i - 1] = a[i - 1].T.dot(dz[i]) / len(x)\n",
    "            db[i - 1] = dz[i].mean(axis=0)\n",
    "        for i in range(len(self.w)):\n",
    "            self.w[i] -= 3 * dw[i]\n",
    "            self.b[i] -= 3 * db[i]\n",
    "        count = 0\n",
    "        for i in range(len(y)):\n",
    "            if y[i][a[len(self.layers) - 1][i].argmax()]:\n",
    "                count += 1\n",
    "        return count\n",
    "    \n",
    "    @classmethod\n",
    "    def sigmoid(cls, a):\n",
    "        return 1 / (1 + np.exp(-a))\n",
    "    \n",
    "    @classmethod\n",
    "    def dsigmoid(cls, a):\n",
    "        return cls.sigmoid(a) * (1 - cls.sigmoid(a))"
   ]
  },
  {
   "cell_type": "code",
   "execution_count": 189,
   "metadata": {},
   "outputs": [],
   "source": [
    "# Load data sets\n",
    "f = gzip.open('mnist.pkl.gz', 'rb')\n",
    "train_set, valid_set, test_set = pickle.load(f, encoding='latin1')\n",
    "f.close()"
   ]
  },
  {
   "cell_type": "code",
   "execution_count": 190,
   "metadata": {},
   "outputs": [],
   "source": [
    "# Load X and Y\n",
    "X = train_set[0]\n",
    "Y = np.array([np.array(y) == range(10) for y in train_set[1]]).astype(int)"
   ]
  },
  {
   "cell_type": "code",
   "execution_count": 191,
   "metadata": {
    "collapsed": true
   },
   "outputs": [],
   "source": [
    "nn = NeuralNetwork([784, 30, 20, 10])"
   ]
  },
  {
   "cell_type": "code",
   "execution_count": 192,
   "metadata": {},
   "outputs": [
    {
     "data": {
      "image/png": "[encoded data removed]",
      "text/plain": [
       "<matplotlib.figure.Figure at 0x7f0134148be0>"
      ]
     },
     "metadata": {},
     "output_type": "display_data"
    }
   ],
   "source": [
    "points = [0] * 10\n",
    "batch_size = 10\n",
    "for i in range(10):\n",
    "    combined = list(zip(X, Y))\n",
    "    random.shuffle(combined)\n",
    "    X[:], Y[:] = zip(*combined)\n",
    "    for j in range(0, len(X), batch_size):\n",
    "        points[i] += nn.train(X[j:j+batch_size], Y[j:j+batch_size])\n",
    "plt.plot(points)\n",
    "plt.show()"
   ]
  },
  {
   "cell_type": "code",
   "execution_count": null,
   "metadata": {
    "collapsed": true
   },
   "outputs": [],
   "source": []
  }
 ],
 "metadata": {
  "kernelspec": {
   "display_name": "Python 3",
   "language": "python",
   "name": "python3"
  },
  "language_info": {
   "codemirror_mode": {
    "name": "ipython",
    "version": 3
   },
   "file_extension": ".py",
   "mimetype": "text/x-python",
   "name": "python",
   "nbconvert_exporter": "python",
   "pygments_lexer": "ipython3",
   "version": "3.5.2"
  }
 },
 "nbformat": 4,
 "nbformat_minor": 2
}
